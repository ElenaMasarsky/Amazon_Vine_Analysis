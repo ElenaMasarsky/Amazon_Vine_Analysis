{
 "cells": [
  {
   "cell_type": "code",
   "execution_count": 1,
   "id": "6a5694d3",
   "metadata": {},
   "outputs": [],
   "source": [
    "# pip install MRJob"
   ]
  },
  {
   "cell_type": "code",
   "execution_count": 14,
   "id": "bd7fddcb",
   "metadata": {
    "scrolled": false
   },
   "outputs": [
    {
     "name": "stderr",
     "output_type": "stream",
     "text": [
      "usage: ipykernel_launcher.py [options] [input files]\n",
      "ipykernel_launcher.py: error: unrecognized arguments: -f\n"
     ]
    },
    {
     "ename": "SystemExit",
     "evalue": "2",
     "output_type": "error",
     "traceback": [
      "An exception has occurred, use %tb to see the full traceback.\n",
      "\u001b[1;31mSystemExit\u001b[0m\u001b[1;31m:\u001b[0m 2\n"
     ]
    }
   ],
   "source": [
    "from mrjob.job import MRJob\n",
    "class Bacon_count(MRJob):\n",
    "   def mapper(self, _, line):\n",
    "       for word in line.split():\n",
    "           if word.lower() == \"bacon\":\n",
    "               yield \"bacon\", 1\n",
    "\n",
    "   def reducer(self, key, values):\n",
    "       yield key, sum(values)\n",
    "if __name__ == \"__main__\":\n",
    "   Bacon_count.run()"
   ]
  }
 ],
 "metadata": {
  "kernelspec": {
   "display_name": "mlenv",
   "language": "python",
   "name": "mlenv"
  },
  "language_info": {
   "codemirror_mode": {
    "name": "ipython",
    "version": 3
   },
   "file_extension": ".py",
   "mimetype": "text/x-python",
   "name": "python",
   "nbconvert_exporter": "python",
   "pygments_lexer": "ipython3",
   "version": "3.7.13"
  }
 },
 "nbformat": 4,
 "nbformat_minor": 5
}
